{
 "cells": [
  {
   "cell_type": "markdown",
   "metadata": {},
   "source": [
    "<h1> <font color='green'>The Sparks foundation </font> </h1>"
   ]
  },
  {
   "cell_type": "markdown",
   "metadata": {
    "colab_type": "text",
    "id": "m-sF2ctGJ--S"
   },
   "source": [
    "### Workshop - Decision Trees\n",
    "\n",
    "This workshop deals with understanding the working of decision trees."
   ]
  },
  {
   "cell_type": "markdown",
   "metadata": {
    "colab_type": "text",
    "id": "sJ4528WdUjSl"
   },
   "source": [
    "### Author: Pratik Patil\n",
    "\n",
    "### Task 4: Create the Decision Tree classifier and visualize it graphically. \n",
    "\n",
    "\n",
    "### Aim:The purpose is if we feed any new data to this classifier, it would be able to predict the right class accordingly. \n",
    "\n"
   ]
  },
  {
   "cell_type": "markdown",
   "metadata": {},
   "source": [
    "<img src='https://thesparksfoundation.info/images/logo.png' width=\"300\" height=\"400\">"
   ]
  },
  {
   "cell_type": "code",
   "execution_count": 1,
   "metadata": {
    "colab": {
     "base_uri": "https://localhost:8080/",
     "height": 202
    },
    "colab_type": "code",
    "executionInfo": {
     "elapsed": 798,
     "status": "ok",
     "timestamp": 1544250963455,
     "user": {
      "displayName": "A M Aditya",
      "photoUrl": "https://lh3.googleusercontent.com/-WI8p7JNWLic/AAAAAAAAAAI/AAAAAAAAAfs/vS8ElgH0p0c/s64/photo.jpg",
      "userId": "15341571102300750919"
     },
     "user_tz": -480
    },
    "id": "2NnB87qXJV_O",
    "outputId": "efeab54b-2ae5-4b95-83e7-608cf191c5d4"
   },
   "outputs": [
    {
     "name": "stderr",
     "output_type": "stream",
     "text": [
      "C:\\ProgramData\\Anaconda3\\lib\\site-packages\\statsmodels\\tools\\_testing.py:19: FutureWarning: pandas.util.testing is deprecated. Use the functions in the public API at pandas.testing instead.\n",
      "  import pandas.util.testing as tm\n"
     ]
    }
   ],
   "source": [
    "#Importing libraries\n",
    "import pandas as pd\n",
    "import numpy as np\n",
    "import matplotlib.pyplot as plt\n",
    "import seaborn as sns\n",
    "import warnings\n",
    "warnings.filterwarnings(action=\"ignore\")\n",
    "%matplotlib inline"
   ]
  },
  {
   "cell_type": "code",
   "execution_count": 2,
   "metadata": {},
   "outputs": [
    {
     "data": {
      "application/javascript": [
       "IPython.OutputArea.prototype._should_scroll = function(lines) {\n",
       "return false;\n",
       "}\n"
      ],
      "text/plain": [
       "<IPython.core.display.Javascript object>"
      ]
     },
     "metadata": {},
     "output_type": "display_data"
    }
   ],
   "source": [
    "%%javascript\n",
    "IPython.OutputArea.prototype._should_scroll = function(lines) {\n",
    "return false;\n",
    "}"
   ]
  },
  {
   "cell_type": "code",
   "execution_count": 3,
   "metadata": {},
   "outputs": [],
   "source": [
    "# importing dataset\n",
    "df = pd.read_csv(\"Iris.csv\")"
   ]
  },
  {
   "cell_type": "code",
   "execution_count": 4,
   "metadata": {
    "scrolled": true
   },
   "outputs": [
    {
     "data": {
      "text/html": [
       "<div>\n",
       "<style scoped>\n",
       "    .dataframe tbody tr th:only-of-type {\n",
       "        vertical-align: middle;\n",
       "    }\n",
       "\n",
       "    .dataframe tbody tr th {\n",
       "        vertical-align: top;\n",
       "    }\n",
       "\n",
       "    .dataframe thead th {\n",
       "        text-align: right;\n",
       "    }\n",
       "</style>\n",
       "<table border=\"1\" class=\"dataframe\">\n",
       "  <thead>\n",
       "    <tr style=\"text-align: right;\">\n",
       "      <th></th>\n",
       "      <th>Id</th>\n",
       "      <th>SepalLengthCm</th>\n",
       "      <th>SepalWidthCm</th>\n",
       "      <th>PetalLengthCm</th>\n",
       "      <th>PetalWidthCm</th>\n",
       "      <th>Species</th>\n",
       "    </tr>\n",
       "  </thead>\n",
       "  <tbody>\n",
       "    <tr>\n",
       "      <th>0</th>\n",
       "      <td>1</td>\n",
       "      <td>5.1</td>\n",
       "      <td>3.5</td>\n",
       "      <td>1.4</td>\n",
       "      <td>0.2</td>\n",
       "      <td>Iris-setosa</td>\n",
       "    </tr>\n",
       "    <tr>\n",
       "      <th>1</th>\n",
       "      <td>2</td>\n",
       "      <td>4.9</td>\n",
       "      <td>3.0</td>\n",
       "      <td>1.4</td>\n",
       "      <td>0.2</td>\n",
       "      <td>Iris-setosa</td>\n",
       "    </tr>\n",
       "    <tr>\n",
       "      <th>2</th>\n",
       "      <td>3</td>\n",
       "      <td>4.7</td>\n",
       "      <td>3.2</td>\n",
       "      <td>1.3</td>\n",
       "      <td>0.2</td>\n",
       "      <td>Iris-setosa</td>\n",
       "    </tr>\n",
       "    <tr>\n",
       "      <th>3</th>\n",
       "      <td>4</td>\n",
       "      <td>4.6</td>\n",
       "      <td>3.1</td>\n",
       "      <td>1.5</td>\n",
       "      <td>0.2</td>\n",
       "      <td>Iris-setosa</td>\n",
       "    </tr>\n",
       "    <tr>\n",
       "      <th>4</th>\n",
       "      <td>5</td>\n",
       "      <td>5.0</td>\n",
       "      <td>3.6</td>\n",
       "      <td>1.4</td>\n",
       "      <td>0.2</td>\n",
       "      <td>Iris-setosa</td>\n",
       "    </tr>\n",
       "    <tr>\n",
       "      <th>5</th>\n",
       "      <td>6</td>\n",
       "      <td>5.4</td>\n",
       "      <td>3.9</td>\n",
       "      <td>1.7</td>\n",
       "      <td>0.4</td>\n",
       "      <td>Iris-setosa</td>\n",
       "    </tr>\n",
       "    <tr>\n",
       "      <th>6</th>\n",
       "      <td>7</td>\n",
       "      <td>4.6</td>\n",
       "      <td>3.4</td>\n",
       "      <td>1.4</td>\n",
       "      <td>0.3</td>\n",
       "      <td>Iris-setosa</td>\n",
       "    </tr>\n",
       "    <tr>\n",
       "      <th>7</th>\n",
       "      <td>8</td>\n",
       "      <td>5.0</td>\n",
       "      <td>3.4</td>\n",
       "      <td>1.5</td>\n",
       "      <td>0.2</td>\n",
       "      <td>Iris-setosa</td>\n",
       "    </tr>\n",
       "    <tr>\n",
       "      <th>8</th>\n",
       "      <td>9</td>\n",
       "      <td>4.4</td>\n",
       "      <td>2.9</td>\n",
       "      <td>1.4</td>\n",
       "      <td>0.2</td>\n",
       "      <td>Iris-setosa</td>\n",
       "    </tr>\n",
       "    <tr>\n",
       "      <th>9</th>\n",
       "      <td>10</td>\n",
       "      <td>4.9</td>\n",
       "      <td>3.1</td>\n",
       "      <td>1.5</td>\n",
       "      <td>0.1</td>\n",
       "      <td>Iris-setosa</td>\n",
       "    </tr>\n",
       "  </tbody>\n",
       "</table>\n",
       "</div>"
      ],
      "text/plain": [
       "   Id  SepalLengthCm  SepalWidthCm  PetalLengthCm  PetalWidthCm      Species\n",
       "0   1            5.1           3.5            1.4           0.2  Iris-setosa\n",
       "1   2            4.9           3.0            1.4           0.2  Iris-setosa\n",
       "2   3            4.7           3.2            1.3           0.2  Iris-setosa\n",
       "3   4            4.6           3.1            1.5           0.2  Iris-setosa\n",
       "4   5            5.0           3.6            1.4           0.2  Iris-setosa\n",
       "5   6            5.4           3.9            1.7           0.4  Iris-setosa\n",
       "6   7            4.6           3.4            1.4           0.3  Iris-setosa\n",
       "7   8            5.0           3.4            1.5           0.2  Iris-setosa\n",
       "8   9            4.4           2.9            1.4           0.2  Iris-setosa\n",
       "9  10            4.9           3.1            1.5           0.1  Iris-setosa"
      ]
     },
     "execution_count": 4,
     "metadata": {},
     "output_type": "execute_result"
    }
   ],
   "source": [
    "# lets look at our dataset\n",
    "df.head(10)"
   ]
  },
  {
   "cell_type": "code",
   "execution_count": 5,
   "metadata": {},
   "outputs": [],
   "source": [
    "# dropping id column as it is not needed.\n",
    "df = df.drop(columns=\"Id\")"
   ]
  },
  {
   "cell_type": "code",
   "execution_count": 6,
   "metadata": {},
   "outputs": [
    {
     "data": {
      "text/plain": [
       "(150, 5)"
      ]
     },
     "execution_count": 6,
     "metadata": {},
     "output_type": "execute_result"
    }
   ],
   "source": [
    "# shape of our dataset\n",
    "df.shape"
   ]
  },
  {
   "cell_type": "code",
   "execution_count": 34,
   "metadata": {},
   "outputs": [
    {
     "data": {
      "text/plain": [
       "Iris-versicolor    50\n",
       "Iris-setosa        50\n",
       "Iris-virginica     50\n",
       "Name: Species, dtype: int64"
      ]
     },
     "execution_count": 34,
     "metadata": {},
     "output_type": "execute_result"
    }
   ],
   "source": [
    "df.Species.value_counts()"
   ]
  },
  {
   "cell_type": "code",
   "execution_count": 7,
   "metadata": {},
   "outputs": [
    {
     "data": {
      "text/plain": [
       "<seaborn.axisgrid.PairGrid at 0x1924bf88148>"
      ]
     },
     "execution_count": 7,
     "metadata": {},
     "output_type": "execute_result"
    },
    {
     "data": {
      "image/png": "[encoded data removed]",
      "text/plain": [
       "<Figure size 823.25x720 with 20 Axes>"
      ]
     },
     "metadata": {
      "needs_background": "light"
     },
     "output_type": "display_data"
    }
   ],
   "source": [
    "# pairplot showing relation among attributes with each other\n",
    "sns.pairplot(data=df, hue=\"Species\")"
   ]
  },
  {
   "cell_type": "code",
   "execution_count": 8,
   "metadata": {
    "scrolled": true
   },
   "outputs": [
    {
     "data": {
      "text/plain": [
       "<matplotlib.axes._subplots.AxesSubplot at 0x1924e205088>"
      ]
     },
     "execution_count": 8,
     "metadata": {},
     "output_type": "execute_result"
    },
    {
     "data": {
      "image/png": "[encoded data removed]",
      "text/plain": [
       "<Figure size 432x288 with 1 Axes>"
      ]
     },
     "metadata": {
      "needs_background": "light"
     },
     "output_type": "display_data"
    }
   ],
   "source": [
    "\n",
    "# distplot of sepal length and width\n",
    "sns.distplot(df[\"SepalLengthCm\"])\n",
    "sns.distplot(df[\"SepalWidthCm\"])"
   ]
  },
  {
   "cell_type": "code",
   "execution_count": 9,
   "metadata": {
    "scrolled": true
   },
   "outputs": [
    {
     "data": {
      "text/plain": [
       "<seaborn.axisgrid.FacetGrid at 0x1924e9e7648>"
      ]
     },
     "execution_count": 9,
     "metadata": {},
     "output_type": "execute_result"
    },
    {
     "data": {
      "image/png": "[encoded data removed]",
      "text/plain": [
       "<Figure size 463.25x360 with 1 Axes>"
      ]
     },
     "metadata": {
      "needs_background": "light"
     },
     "output_type": "display_data"
    }
   ],
   "source": [
    "# lm plot for sepals\n",
    "sns.lmplot(data=df, x=\"SepalLengthCm\", y=\"SepalWidthCm\", hue=\"Species\")"
   ]
  },
  {
   "cell_type": "code",
   "execution_count": 10,
   "metadata": {},
   "outputs": [],
   "source": [
    "iris_setosa = df.loc[df[\"Species\"] == \"Iris-setosa\"];\n",
    "iris_virginica = df.loc[df[\"Species\"] == \"Iris-virginica\"];\n",
    "iris_versicolor = df.loc[df[\"Species\"] == \"Iris-versicolor\"];"
   ]
  },
  {
   "cell_type": "code",
   "execution_count": 11,
   "metadata": {},
   "outputs": [
    {
     "name": "stdout",
     "output_type": "stream",
     "text": [
      "\n",
      "Medians:\n",
      "1.5\n",
      "1.5\n",
      "5.55\n",
      "4.35\n",
      "\n",
      "Quantiles:\n",
      "[1.    1.4   1.5   1.575]\n",
      "[4.5   5.1   5.55  5.875]\n",
      "[3.   4.   4.35 4.6 ]\n",
      "\n",
      "90th Percentiles:\n",
      "1.7\n",
      "6.3100000000000005\n",
      "4.8\n",
      "\n",
      "Median Absolute Deviation\n",
      "0.14826022185056031\n",
      "0.6671709983275211\n",
      "0.5189107764769602\n"
     ]
    }
   ],
   "source": [
    "#Median, Quantiles, Percentiles, IQR.\n",
    "print(\"\\nMedians:\")\n",
    "print(np.median(iris_setosa['PetalLengthCm']))\n",
    "#Median with an outlier\n",
    "print(np.median(np.append(iris_setosa['PetalLengthCm'],50)));\n",
    "print(np.median(iris_virginica['PetalLengthCm']))\n",
    "print(np.median(iris_versicolor['PetalLengthCm']))\n",
    "\n",
    "\n",
    "print(\"\\nQuantiles:\")\n",
    "print(np.percentile(iris_setosa['PetalLengthCm'],np.arange(0, 100, 25)))\n",
    "print(np.percentile(iris_virginica['PetalLengthCm'],np.arange(0, 100, 25)))\n",
    "print(np.percentile(iris_versicolor['PetalLengthCm'], np.arange(0, 100, 25)))\n",
    "\n",
    "print(\"\\n90th Percentiles:\")\n",
    "print(np.percentile(iris_setosa['PetalLengthCm'],90))\n",
    "print(np.percentile(iris_virginica['PetalLengthCm'],90))\n",
    "print(np.percentile(iris_versicolor['PetalLengthCm'], 90))\n",
    "\n",
    "from statsmodels import robust\n",
    "print (\"\\nMedian Absolute Deviation\")\n",
    "print(robust.mad(iris_setosa['PetalLengthCm']))\n",
    "print(robust.mad(iris_virginica['PetalLengthCm']))\n",
    "print(robust.mad(iris_versicolor['PetalLengthCm']))"
   ]
  },
  {
   "cell_type": "markdown",
   "metadata": {},
   "source": [
    "# Feature selection"
   ]
  },
  {
   "cell_type": "code",
   "execution_count": 12,
   "metadata": {},
   "outputs": [],
   "source": [
    "X = df.iloc[:,:-1].values\n",
    "y = df.Species.values"
   ]
  },
  {
   "cell_type": "code",
   "execution_count": 13,
   "metadata": {},
   "outputs": [],
   "source": [
    "\n",
    "# Encoding target variable\n",
    "from sklearn.preprocessing import LabelEncoder\n",
    "le = LabelEncoder()\n",
    "y = le.fit_transform(y)"
   ]
  },
  {
   "cell_type": "code",
   "execution_count": 14,
   "metadata": {},
   "outputs": [
    {
     "name": "stdout",
     "output_type": "stream",
     "text": [
      "[0 0 0 0 0 0 0 0 0 0 0 0 0 0 0 0 0 0 0 0 0 0 0 0 0 0 0 0 0 0 0 0 0 0 0 0 0\n",
      " 0 0 0 0 0 0 0 0 0 0 0 0 0 1 1 1 1 1 1 1 1 1 1 1 1 1 1 1 1 1 1 1 1 1 1 1 1\n",
      " 1 1 1 1 1 1 1 1 1 1 1 1 1 1 1 1 1 1 1 1 1 1 1 1 1 1 2 2 2 2 2 2 2 2 2 2 2\n",
      " 2 2 2 2 2 2 2 2 2 2 2 2 2 2 2 2 2 2 2 2 2 2 2 2 2 2 2 2 2 2 2 2 2 2 2 2 2\n",
      " 2 2]\n"
     ]
    }
   ],
   "source": [
    "\n",
    "# printing target variable\n",
    "print(y)"
   ]
  },
  {
   "cell_type": "code",
   "execution_count": 15,
   "metadata": {},
   "outputs": [
    {
     "name": "stdout",
     "output_type": "stream",
     "text": [
      "(120, 4)\n",
      "(30, 4)\n",
      "(120,)\n",
      "(30,)\n"
     ]
    }
   ],
   "source": [
    "from sklearn.model_selection import train_test_split\n",
    "X_train, X_test, y_train, y_test = train_test_split(X, y, test_size=0.20, random_state=None)\n",
    "\n",
    "print(X_train.shape)\n",
    "print(X_test.shape)\n",
    "print(y_train.shape)\n",
    "print(y_test.shape)"
   ]
  },
  {
   "cell_type": "markdown",
   "metadata": {
    "colab_type": "text",
    "id": "5138OrpsMIBM"
   },
   "source": [
    "### Now let us define the Decision Tree Algorithm"
   ]
  },
  {
   "cell_type": "code",
   "execution_count": 16,
   "metadata": {
    "colab": {
     "base_uri": "https://localhost:8080/",
     "height": 34
    },
    "colab_type": "code",
    "executionInfo": {
     "elapsed": 743,
     "status": "ok",
     "timestamp": 1544111495466,
     "user": {
      "displayName": "A M Aditya",
      "photoUrl": "https://lh3.googleusercontent.com/-WI8p7JNWLic/AAAAAAAAAAI/AAAAAAAAAfs/vS8ElgH0p0c/s64/photo.jpg",
      "userId": "15341571102300750919"
     },
     "user_tz": -480
    },
    "id": "WTzkopMAMD2j",
    "outputId": "686cefca-3c23-4294-8bcb-a5751a2a8be0",
    "scrolled": true
   },
   "outputs": [
    {
     "data": {
      "text/plain": [
       "DecisionTreeClassifier()"
      ]
     },
     "execution_count": 16,
     "metadata": {},
     "output_type": "execute_result"
    }
   ],
   "source": [
    "#fitting decisiontreeclassifier model\n",
    "from sklearn.tree import DecisionTreeClassifier\n",
    "classifier = DecisionTreeClassifier()\n",
    "classifier.fit(X_train, y_train)"
   ]
  },
  {
   "cell_type": "code",
   "execution_count": 17,
   "metadata": {},
   "outputs": [
    {
     "name": "stdout",
     "output_type": "stream",
     "text": [
      "[1 2 0 0 1 1 2 2 1 1 1 1 2 0 1 2 1 1 0 2 0 0 2 2 0 2 2 2 2 0]\n"
     ]
    }
   ],
   "source": [
    "# making predictions from our classifier\n",
    "y_pred = classifier.predict(X_test)\n",
    "print(y_pred)"
   ]
  },
  {
   "cell_type": "code",
   "execution_count": 18,
   "metadata": {
    "scrolled": true
   },
   "outputs": [
    {
     "data": {
      "text/plain": [
       "array([6.2, 2.2, 4.5, 1.5])"
      ]
     },
     "execution_count": 18,
     "metadata": {},
     "output_type": "execute_result"
    }
   ],
   "source": [
    "X_test[0]"
   ]
  },
  {
   "cell_type": "code",
   "execution_count": 19,
   "metadata": {},
   "outputs": [
    {
     "data": {
      "text/plain": [
       "array([4.6, 3.4, 1.4, 0.3])"
      ]
     },
     "execution_count": 19,
     "metadata": {},
     "output_type": "execute_result"
    }
   ],
   "source": [
    "X_test[3]"
   ]
  },
  {
   "cell_type": "code",
   "execution_count": 30,
   "metadata": {},
   "outputs": [
    {
     "data": {
      "text/plain": [
       "array([7.7, 2.8, 6.7, 2. ])"
      ]
     },
     "execution_count": 30,
     "metadata": {},
     "output_type": "execute_result"
    }
   ],
   "source": [
    "X_test[1]"
   ]
  },
  {
   "cell_type": "code",
   "execution_count": 21,
   "metadata": {
    "scrolled": true
   },
   "outputs": [
    {
     "data": {
      "text/html": [
       "<div>\n",
       "<style scoped>\n",
       "    .dataframe tbody tr th:only-of-type {\n",
       "        vertical-align: middle;\n",
       "    }\n",
       "\n",
       "    .dataframe tbody tr th {\n",
       "        vertical-align: top;\n",
       "    }\n",
       "\n",
       "    .dataframe thead th {\n",
       "        text-align: right;\n",
       "    }\n",
       "</style>\n",
       "<table border=\"1\" class=\"dataframe\">\n",
       "  <thead>\n",
       "    <tr style=\"text-align: right;\">\n",
       "      <th></th>\n",
       "      <th>Actual</th>\n",
       "      <th>Predicted</th>\n",
       "    </tr>\n",
       "  </thead>\n",
       "  <tbody>\n",
       "    <tr>\n",
       "      <th>0</th>\n",
       "      <td>1</td>\n",
       "      <td>1</td>\n",
       "    </tr>\n",
       "    <tr>\n",
       "      <th>1</th>\n",
       "      <td>2</td>\n",
       "      <td>2</td>\n",
       "    </tr>\n",
       "    <tr>\n",
       "      <th>2</th>\n",
       "      <td>0</td>\n",
       "      <td>0</td>\n",
       "    </tr>\n",
       "    <tr>\n",
       "      <th>3</th>\n",
       "      <td>0</td>\n",
       "      <td>0</td>\n",
       "    </tr>\n",
       "    <tr>\n",
       "      <th>4</th>\n",
       "      <td>1</td>\n",
       "      <td>1</td>\n",
       "    </tr>\n",
       "    <tr>\n",
       "      <th>5</th>\n",
       "      <td>1</td>\n",
       "      <td>1</td>\n",
       "    </tr>\n",
       "    <tr>\n",
       "      <th>6</th>\n",
       "      <td>2</td>\n",
       "      <td>2</td>\n",
       "    </tr>\n",
       "    <tr>\n",
       "      <th>7</th>\n",
       "      <td>2</td>\n",
       "      <td>2</td>\n",
       "    </tr>\n",
       "  </tbody>\n",
       "</table>\n",
       "</div>"
      ],
      "text/plain": [
       "   Actual  Predicted\n",
       "0       1          1\n",
       "1       2          2\n",
       "2       0          0\n",
       "3       0          0\n",
       "4       1          1\n",
       "5       1          1\n",
       "6       2          2\n",
       "7       2          2"
      ]
     },
     "execution_count": 21,
     "metadata": {},
     "output_type": "execute_result"
    }
   ],
   "source": [
    "new = pd.DataFrame({'Actual':y_test, 'Predicted':y_pred})\n",
    "new.head(8)"
   ]
  },
  {
   "cell_type": "code",
   "execution_count": 22,
   "metadata": {},
   "outputs": [
    {
     "name": "stdout",
     "output_type": "stream",
     "text": [
      "              precision    recall  f1-score   support\n",
      "\n",
      "           0       1.00      1.00      1.00         8\n",
      "           1       0.90      0.90      0.90        10\n",
      "           2       0.92      0.92      0.92        12\n",
      "\n",
      "    accuracy                           0.93        30\n",
      "   macro avg       0.94      0.94      0.94        30\n",
      "weighted avg       0.93      0.93      0.93        30\n",
      "\n"
     ]
    },
    {
     "data": {
      "image/png": "[encoded data removed]",
      "text/plain": [
       "<Figure size 432x288 with 2 Axes>"
      ]
     },
     "metadata": {
      "needs_background": "light"
     },
     "output_type": "display_data"
    }
   ],
   "source": [
    "\n",
    "# Accuracy of our classification model\n",
    "from sklearn.metrics import confusion_matrix, classification_report\n",
    "cm = confusion_matrix(y_pred, y_test)\n",
    "sns.heatmap(data = cm, annot=True)\n",
    "\n",
    "report = classification_report(y_pred, y_test)\n",
    "print(report)\n",
    "# through classification report\n",
    "\n"
   ]
  },
  {
   "cell_type": "markdown",
   "metadata": {
    "colab_type": "text",
    "id": "RG4zbO-7M8TB"
   },
   "source": [
    "### Let us visualize the Decision Tree to understand it better.\n",
    "\n"
   ]
  },
  {
   "cell_type": "code",
   "execution_count": 23,
   "metadata": {
    "colab": {
     "base_uri": "https://localhost:8080/",
     "height": 792
    },
    "colab_type": "code",
    "executionInfo": {
     "elapsed": 1742,
     "status": "ok",
     "timestamp": 1544112272695,
     "user": {
      "displayName": "A M Aditya",
      "photoUrl": "https://lh3.googleusercontent.com/-WI8p7JNWLic/AAAAAAAAAAI/AAAAAAAAAfs/vS8ElgH0p0c/s64/photo.jpg",
      "userId": "15341571102300750919"
     },
     "user_tz": -480
    },
    "id": "f2umcLmrOyY8",
    "outputId": "3999f365-c388-4dcf-8885-6eee95228d1e"
   },
   "outputs": [
    {
     "data": {
      "image/svg+xml": [
       "<?xml version=\"1.0\" encoding=\"UTF-8\" standalone=\"no\"?>\r\n",
       "<!DOCTYPE svg PUBLIC \"-//W3C//DTD SVG 1.1//EN\"\r\n",
       " \"http://www.w3.org/Graphics/SVG/1.1/DTD/svg11.dtd\">\r\n",
       "<!-- Generated by graphviz version 2.38.0 (20140413.2041)\r\n",
       " -->\r\n",
       "<!-- Title: Tree Pages: 1 -->\r\n",
       "<svg width=\"655pt\" height=\"671pt\"\r\n",
       " viewBox=\"0.00 0.00 654.50 671.00\" xmlns=\"http://www.w3.org/2000/svg\" xmlns:xlink=\"http://www.w3.org/1999/xlink\">\r\n",
       "<g id=\"graph0\" class=\"graph\" transform=\"scale(1 1) rotate(0) translate(4 667)\">\r\n",
       "<title>Tree</title>\r\n",
       "<polygon fill=\"white\" stroke=\"none\" points=\"-4,4 -4,-667 650.5,-667 650.5,4 -4,4\"/>\r\n",
       "<!-- 0 -->\r\n",
       "<g id=\"node1\" class=\"node\"><title>0</title>\r\n",
       "<path fill=\"#fefcfa\" stroke=\"black\" d=\"M269.5,-663C269.5,-663 156.5,-663 156.5,-663 150.5,-663 144.5,-657 144.5,-651 144.5,-651 144.5,-592 144.5,-592 144.5,-586 150.5,-580 156.5,-580 156.5,-580 269.5,-580 269.5,-580 275.5,-580 281.5,-586 281.5,-592 281.5,-592 281.5,-651 281.5,-651 281.5,-657 275.5,-663 269.5,-663\"/>\r\n",
       "<text text-anchor=\"start\" x=\"158.5\" y=\"-647.8\" font-family=\"Helvetica,sans-Serif\" font-size=\"14.00\">Petal Width ≤ 0.8</text>\r\n",
       "<text text-anchor=\"start\" x=\"175.5\" y=\"-632.8\" font-family=\"Helvetica,sans-Serif\" font-size=\"14.00\">gini = 0.666</text>\r\n",
       "<text text-anchor=\"start\" x=\"165.5\" y=\"-617.8\" font-family=\"Helvetica,sans-Serif\" font-size=\"14.00\">samples = 120</text>\r\n",
       "<text text-anchor=\"start\" x=\"152.5\" y=\"-602.8\" font-family=\"Helvetica,sans-Serif\" font-size=\"14.00\">value = [42, 40, 38]</text>\r\n",
       "<text text-anchor=\"start\" x=\"166\" y=\"-587.8\" font-family=\"Helvetica,sans-Serif\" font-size=\"14.00\">class = Setosa</text>\r\n",
       "</g>\r\n",
       "<!-- 1 -->\r\n",
       "<g id=\"node2\" class=\"node\"><title>1</title>\r\n",
       "<path fill=\"#e58139\" stroke=\"black\" d=\"M187.5,-536.5C187.5,-536.5 90.5,-536.5 90.5,-536.5 84.5,-536.5 78.5,-530.5 78.5,-524.5 78.5,-524.5 78.5,-480.5 78.5,-480.5 78.5,-474.5 84.5,-468.5 90.5,-468.5 90.5,-468.5 187.5,-468.5 187.5,-468.5 193.5,-468.5 199.5,-474.5 199.5,-480.5 199.5,-480.5 199.5,-524.5 199.5,-524.5 199.5,-530.5 193.5,-536.5 187.5,-536.5\"/>\r\n",
       "<text text-anchor=\"start\" x=\"110\" y=\"-521.3\" font-family=\"Helvetica,sans-Serif\" font-size=\"14.00\">gini = 0.0</text>\r\n",
       "<text text-anchor=\"start\" x=\"95.5\" y=\"-506.3\" font-family=\"Helvetica,sans-Serif\" font-size=\"14.00\">samples = 42</text>\r\n",
       "<text text-anchor=\"start\" x=\"86.5\" y=\"-491.3\" font-family=\"Helvetica,sans-Serif\" font-size=\"14.00\">value = [42, 0, 0]</text>\r\n",
       "<text text-anchor=\"start\" x=\"92\" y=\"-476.3\" font-family=\"Helvetica,sans-Serif\" font-size=\"14.00\">class = Setosa</text>\r\n",
       "</g>\r\n",
       "<!-- 0&#45;&gt;1 -->\r\n",
       "<g id=\"edge1\" class=\"edge\"><title>0&#45;&gt;1</title>\r\n",
       "<path fill=\"none\" stroke=\"black\" d=\"M187.326,-579.907C180.277,-568.763 172.621,-556.658 165.526,-545.439\"/>\r\n",
       "<polygon fill=\"black\" stroke=\"black\" points=\"168.281,-543.248 159.977,-536.667 162.365,-546.989 168.281,-543.248\"/>\r\n",
       "<text text-anchor=\"middle\" x=\"154.487\" y=\"-557.356\" font-family=\"Helvetica,sans-Serif\" font-size=\"14.00\">True</text>\r\n",
       "</g>\r\n",
       "<!-- 2 -->\r\n",
       "<g id=\"node3\" class=\"node\"><title>2</title>\r\n",
       "<path fill=\"#f5fef9\" stroke=\"black\" d=\"M346,-544C346,-544 230,-544 230,-544 224,-544 218,-538 218,-532 218,-532 218,-473 218,-473 218,-467 224,-461 230,-461 230,-461 346,-461 346,-461 352,-461 358,-467 358,-473 358,-473 358,-532 358,-532 358,-538 352,-544 346,-544\"/>\r\n",
       "<text text-anchor=\"start\" x=\"226\" y=\"-528.8\" font-family=\"Helvetica,sans-Serif\" font-size=\"14.00\">Petal Length ≤ 4.85</text>\r\n",
       "<text text-anchor=\"start\" x=\"259\" y=\"-513.8\" font-family=\"Helvetica,sans-Serif\" font-size=\"14.00\">gini = 0.5</text>\r\n",
       "<text text-anchor=\"start\" x=\"244.5\" y=\"-498.8\" font-family=\"Helvetica,sans-Serif\" font-size=\"14.00\">samples = 78</text>\r\n",
       "<text text-anchor=\"start\" x=\"231.5\" y=\"-483.8\" font-family=\"Helvetica,sans-Serif\" font-size=\"14.00\">value = [0, 40, 38]</text>\r\n",
       "<text text-anchor=\"start\" x=\"231\" y=\"-468.8\" font-family=\"Helvetica,sans-Serif\" font-size=\"14.00\">class = Versicolor</text>\r\n",
       "</g>\r\n",
       "<!-- 0&#45;&gt;2 -->\r\n",
       "<g id=\"edge2\" class=\"edge\"><title>0&#45;&gt;2</title>\r\n",
       "<path fill=\"none\" stroke=\"black\" d=\"M239.021,-579.907C244.664,-571.105 250.69,-561.703 256.518,-552.612\"/>\r\n",
       "<polygon fill=\"black\" stroke=\"black\" points=\"259.575,-554.328 262.025,-544.021 253.682,-550.551 259.575,-554.328\"/>\r\n",
       "<text text-anchor=\"middle\" x=\"267.368\" y=\"-564.743\" font-family=\"Helvetica,sans-Serif\" font-size=\"14.00\">False</text>\r\n",
       "</g>\r\n",
       "<!-- 3 -->\r\n",
       "<g id=\"node4\" class=\"node\"><title>3</title>\r\n",
       "<path fill=\"#3ee684\" stroke=\"black\" d=\"M266,-425C266,-425 160,-425 160,-425 154,-425 148,-419 148,-413 148,-413 148,-354 148,-354 148,-348 154,-342 160,-342 160,-342 266,-342 266,-342 272,-342 278,-348 278,-354 278,-354 278,-413 278,-413 278,-419 272,-425 266,-425\"/>\r\n",
       "<text text-anchor=\"start\" x=\"158.5\" y=\"-409.8\" font-family=\"Helvetica,sans-Serif\" font-size=\"14.00\">Petal Width ≤ 1.7</text>\r\n",
       "<text text-anchor=\"start\" x=\"175.5\" y=\"-394.8\" font-family=\"Helvetica,sans-Serif\" font-size=\"14.00\">gini = 0.051</text>\r\n",
       "<text text-anchor=\"start\" x=\"169.5\" y=\"-379.8\" font-family=\"Helvetica,sans-Serif\" font-size=\"14.00\">samples = 38</text>\r\n",
       "<text text-anchor=\"start\" x=\"160.5\" y=\"-364.8\" font-family=\"Helvetica,sans-Serif\" font-size=\"14.00\">value = [0, 37, 1]</text>\r\n",
       "<text text-anchor=\"start\" x=\"156\" y=\"-349.8\" font-family=\"Helvetica,sans-Serif\" font-size=\"14.00\">class = Versicolor</text>\r\n",
       "</g>\r\n",
       "<!-- 2&#45;&gt;3 -->\r\n",
       "<g id=\"edge3\" class=\"edge\"><title>2&#45;&gt;3</title>\r\n",
       "<path fill=\"none\" stroke=\"black\" d=\"M261.979,-460.907C256.336,-452.105 250.31,-442.703 244.482,-433.612\"/>\r\n",
       "<polygon fill=\"black\" stroke=\"black\" points=\"247.318,-431.551 238.975,-425.021 241.425,-435.328 247.318,-431.551\"/>\r\n",
       "</g>\r\n",
       "<!-- 8 -->\r\n",
       "<g id=\"node9\" class=\"node\"><title>8</title>\r\n",
       "<path fill=\"#8b49e7\" stroke=\"black\" d=\"M412.5,-425C412.5,-425 311.5,-425 311.5,-425 305.5,-425 299.5,-419 299.5,-413 299.5,-413 299.5,-354 299.5,-354 299.5,-348 305.5,-342 311.5,-342 311.5,-342 412.5,-342 412.5,-342 418.5,-342 424.5,-348 424.5,-354 424.5,-354 424.5,-413 424.5,-413 424.5,-419 418.5,-425 412.5,-425\"/>\r\n",
       "<text text-anchor=\"start\" x=\"307.5\" y=\"-409.8\" font-family=\"Helvetica,sans-Serif\" font-size=\"14.00\">Petal Width ≤ 1.7</text>\r\n",
       "<text text-anchor=\"start\" x=\"324.5\" y=\"-394.8\" font-family=\"Helvetica,sans-Serif\" font-size=\"14.00\">gini = 0.139</text>\r\n",
       "<text text-anchor=\"start\" x=\"318.5\" y=\"-379.8\" font-family=\"Helvetica,sans-Serif\" font-size=\"14.00\">samples = 40</text>\r\n",
       "<text text-anchor=\"start\" x=\"309.5\" y=\"-364.8\" font-family=\"Helvetica,sans-Serif\" font-size=\"14.00\">value = [0, 3, 37]</text>\r\n",
       "<text text-anchor=\"start\" x=\"310.5\" y=\"-349.8\" font-family=\"Helvetica,sans-Serif\" font-size=\"14.00\">class = Virginica</text>\r\n",
       "</g>\r\n",
       "<!-- 2&#45;&gt;8 -->\r\n",
       "<g id=\"edge8\" class=\"edge\"><title>2&#45;&gt;8</title>\r\n",
       "<path fill=\"none\" stroke=\"black\" d=\"M313.674,-460.907C319.242,-452.105 325.188,-442.703 330.938,-433.612\"/>\r\n",
       "<polygon fill=\"black\" stroke=\"black\" points=\"333.984,-435.343 336.371,-425.021 328.068,-431.601 333.984,-435.343\"/>\r\n",
       "</g>\r\n",
       "<!-- 4 -->\r\n",
       "<g id=\"node5\" class=\"node\"><title>4</title>\r\n",
       "<path fill=\"#39e581\" stroke=\"black\" d=\"M118,-298.5C118,-298.5 12,-298.5 12,-298.5 6,-298.5 0,-292.5 0,-286.5 0,-286.5 0,-242.5 0,-242.5 0,-236.5 6,-230.5 12,-230.5 12,-230.5 118,-230.5 118,-230.5 124,-230.5 130,-236.5 130,-242.5 130,-242.5 130,-286.5 130,-286.5 130,-292.5 124,-298.5 118,-298.5\"/>\r\n",
       "<text text-anchor=\"start\" x=\"36\" y=\"-283.3\" font-family=\"Helvetica,sans-Serif\" font-size=\"14.00\">gini = 0.0</text>\r\n",
       "<text text-anchor=\"start\" x=\"21.5\" y=\"-268.3\" font-family=\"Helvetica,sans-Serif\" font-size=\"14.00\">samples = 36</text>\r\n",
       "<text text-anchor=\"start\" x=\"12.5\" y=\"-253.3\" font-family=\"Helvetica,sans-Serif\" font-size=\"14.00\">value = [0, 36, 0]</text>\r\n",
       "<text text-anchor=\"start\" x=\"8\" y=\"-238.3\" font-family=\"Helvetica,sans-Serif\" font-size=\"14.00\">class = Versicolor</text>\r\n",
       "</g>\r\n",
       "<!-- 3&#45;&gt;4 -->\r\n",
       "<g id=\"edge4\" class=\"edge\"><title>3&#45;&gt;4</title>\r\n",
       "<path fill=\"none\" stroke=\"black\" d=\"M161.652,-341.907C146.577,-329.99 130.114,-316.976 115.117,-305.12\"/>\r\n",
       "<polygon fill=\"black\" stroke=\"black\" points=\"116.97,-302.123 106.955,-298.667 112.629,-307.614 116.97,-302.123\"/>\r\n",
       "</g>\r\n",
       "<!-- 5 -->\r\n",
       "<g id=\"node6\" class=\"node\"><title>5</title>\r\n",
       "<path fill=\"#ffffff\" stroke=\"black\" d=\"M266,-306C266,-306 160,-306 160,-306 154,-306 148,-300 148,-294 148,-294 148,-235 148,-235 148,-229 154,-223 160,-223 160,-223 266,-223 266,-223 272,-223 278,-229 278,-235 278,-235 278,-294 278,-294 278,-300 272,-306 266,-306\"/>\r\n",
       "<text text-anchor=\"start\" x=\"156.5\" y=\"-290.8\" font-family=\"Helvetica,sans-Serif\" font-size=\"14.00\">Sepal Width ≤ 3.0</text>\r\n",
       "<text text-anchor=\"start\" x=\"184\" y=\"-275.8\" font-family=\"Helvetica,sans-Serif\" font-size=\"14.00\">gini = 0.5</text>\r\n",
       "<text text-anchor=\"start\" x=\"173.5\" y=\"-260.8\" font-family=\"Helvetica,sans-Serif\" font-size=\"14.00\">samples = 2</text>\r\n",
       "<text text-anchor=\"start\" x=\"164.5\" y=\"-245.8\" font-family=\"Helvetica,sans-Serif\" font-size=\"14.00\">value = [0, 1, 1]</text>\r\n",
       "<text text-anchor=\"start\" x=\"156\" y=\"-230.8\" font-family=\"Helvetica,sans-Serif\" font-size=\"14.00\">class = Versicolor</text>\r\n",
       "</g>\r\n",
       "<!-- 3&#45;&gt;5 -->\r\n",
       "<g id=\"edge5\" class=\"edge\"><title>3&#45;&gt;5</title>\r\n",
       "<path fill=\"none\" stroke=\"black\" d=\"M213,-341.907C213,-333.649 213,-324.864 213,-316.302\"/>\r\n",
       "<polygon fill=\"black\" stroke=\"black\" points=\"216.5,-316.021 213,-306.021 209.5,-316.021 216.5,-316.021\"/>\r\n",
       "</g>\r\n",
       "<!-- 6 -->\r\n",
       "<g id=\"node7\" class=\"node\"><title>6</title>\r\n",
       "<path fill=\"#8139e5\" stroke=\"black\" d=\"M117.5,-179.5C117.5,-179.5 22.5,-179.5 22.5,-179.5 16.5,-179.5 10.5,-173.5 10.5,-167.5 10.5,-167.5 10.5,-123.5 10.5,-123.5 10.5,-117.5 16.5,-111.5 22.5,-111.5 22.5,-111.5 117.5,-111.5 117.5,-111.5 123.5,-111.5 129.5,-117.5 129.5,-123.5 129.5,-123.5 129.5,-167.5 129.5,-167.5 129.5,-173.5 123.5,-179.5 117.5,-179.5\"/>\r\n",
       "<text text-anchor=\"start\" x=\"41\" y=\"-164.3\" font-family=\"Helvetica,sans-Serif\" font-size=\"14.00\">gini = 0.0</text>\r\n",
       "<text text-anchor=\"start\" x=\"30.5\" y=\"-149.3\" font-family=\"Helvetica,sans-Serif\" font-size=\"14.00\">samples = 1</text>\r\n",
       "<text text-anchor=\"start\" x=\"21.5\" y=\"-134.3\" font-family=\"Helvetica,sans-Serif\" font-size=\"14.00\">value = [0, 0, 1]</text>\r\n",
       "<text text-anchor=\"start\" x=\"18.5\" y=\"-119.3\" font-family=\"Helvetica,sans-Serif\" font-size=\"14.00\">class = Virginica</text>\r\n",
       "</g>\r\n",
       "<!-- 5&#45;&gt;6 -->\r\n",
       "<g id=\"edge6\" class=\"edge\"><title>5&#45;&gt;6</title>\r\n",
       "<path fill=\"none\" stroke=\"black\" d=\"M163.387,-222.907C148.821,-210.99 132.915,-197.976 118.424,-186.12\"/>\r\n",
       "<polygon fill=\"black\" stroke=\"black\" points=\"120.493,-183.29 110.537,-179.667 116.061,-188.708 120.493,-183.29\"/>\r\n",
       "</g>\r\n",
       "<!-- 7 -->\r\n",
       "<g id=\"node8\" class=\"node\"><title>7</title>\r\n",
       "<path fill=\"#39e581\" stroke=\"black\" d=\"M266,-179.5C266,-179.5 160,-179.5 160,-179.5 154,-179.5 148,-173.5 148,-167.5 148,-167.5 148,-123.5 148,-123.5 148,-117.5 154,-111.5 160,-111.5 160,-111.5 266,-111.5 266,-111.5 272,-111.5 278,-117.5 278,-123.5 278,-123.5 278,-167.5 278,-167.5 278,-173.5 272,-179.5 266,-179.5\"/>\r\n",
       "<text text-anchor=\"start\" x=\"184\" y=\"-164.3\" font-family=\"Helvetica,sans-Serif\" font-size=\"14.00\">gini = 0.0</text>\r\n",
       "<text text-anchor=\"start\" x=\"173.5\" y=\"-149.3\" font-family=\"Helvetica,sans-Serif\" font-size=\"14.00\">samples = 1</text>\r\n",
       "<text text-anchor=\"start\" x=\"164.5\" y=\"-134.3\" font-family=\"Helvetica,sans-Serif\" font-size=\"14.00\">value = [0, 1, 0]</text>\r\n",
       "<text text-anchor=\"start\" x=\"156\" y=\"-119.3\" font-family=\"Helvetica,sans-Serif\" font-size=\"14.00\">class = Versicolor</text>\r\n",
       "</g>\r\n",
       "<!-- 5&#45;&gt;7 -->\r\n",
       "<g id=\"edge7\" class=\"edge\"><title>5&#45;&gt;7</title>\r\n",
       "<path fill=\"none\" stroke=\"black\" d=\"M213,-222.907C213,-212.204 213,-200.615 213,-189.776\"/>\r\n",
       "<polygon fill=\"black\" stroke=\"black\" points=\"216.5,-189.667 213,-179.667 209.5,-189.667 216.5,-189.667\"/>\r\n",
       "</g>\r\n",
       "<!-- 9 -->\r\n",
       "<g id=\"node10\" class=\"node\"><title>9</title>\r\n",
       "<path fill=\"#ffffff\" stroke=\"black\" d=\"M415.5,-306C415.5,-306 308.5,-306 308.5,-306 302.5,-306 296.5,-300 296.5,-294 296.5,-294 296.5,-235 296.5,-235 296.5,-229 302.5,-223 308.5,-223 308.5,-223 415.5,-223 415.5,-223 421.5,-223 427.5,-229 427.5,-235 427.5,-235 427.5,-294 427.5,-294 427.5,-300 421.5,-306 415.5,-306\"/>\r\n",
       "<text text-anchor=\"start\" x=\"304.5\" y=\"-290.8\" font-family=\"Helvetica,sans-Serif\" font-size=\"14.00\">Petal Length ≤ 5.0</text>\r\n",
       "<text text-anchor=\"start\" x=\"333\" y=\"-275.8\" font-family=\"Helvetica,sans-Serif\" font-size=\"14.00\">gini = 0.5</text>\r\n",
       "<text text-anchor=\"start\" x=\"322.5\" y=\"-260.8\" font-family=\"Helvetica,sans-Serif\" font-size=\"14.00\">samples = 6</text>\r\n",
       "<text text-anchor=\"start\" x=\"313.5\" y=\"-245.8\" font-family=\"Helvetica,sans-Serif\" font-size=\"14.00\">value = [0, 3, 3]</text>\r\n",
       "<text text-anchor=\"start\" x=\"305\" y=\"-230.8\" font-family=\"Helvetica,sans-Serif\" font-size=\"14.00\">class = Versicolor</text>\r\n",
       "</g>\r\n",
       "<!-- 8&#45;&gt;9 -->\r\n",
       "<g id=\"edge9\" class=\"edge\"><title>8&#45;&gt;9</title>\r\n",
       "<path fill=\"none\" stroke=\"black\" d=\"M362,-341.907C362,-333.649 362,-324.864 362,-316.302\"/>\r\n",
       "<polygon fill=\"black\" stroke=\"black\" points=\"365.5,-316.021 362,-306.021 358.5,-316.021 365.5,-316.021\"/>\r\n",
       "</g>\r\n",
       "<!-- 14 -->\r\n",
       "<g id=\"node15\" class=\"node\"><title>14</title>\r\n",
       "<path fill=\"#8139e5\" stroke=\"black\" d=\"M554.5,-298.5C554.5,-298.5 457.5,-298.5 457.5,-298.5 451.5,-298.5 445.5,-292.5 445.5,-286.5 445.5,-286.5 445.5,-242.5 445.5,-242.5 445.5,-236.5 451.5,-230.5 457.5,-230.5 457.5,-230.5 554.5,-230.5 554.5,-230.5 560.5,-230.5 566.5,-236.5 566.5,-242.5 566.5,-242.5 566.5,-286.5 566.5,-286.5 566.5,-292.5 560.5,-298.5 554.5,-298.5\"/>\r\n",
       "<text text-anchor=\"start\" x=\"477\" y=\"-283.3\" font-family=\"Helvetica,sans-Serif\" font-size=\"14.00\">gini = 0.0</text>\r\n",
       "<text text-anchor=\"start\" x=\"462.5\" y=\"-268.3\" font-family=\"Helvetica,sans-Serif\" font-size=\"14.00\">samples = 34</text>\r\n",
       "<text text-anchor=\"start\" x=\"453.5\" y=\"-253.3\" font-family=\"Helvetica,sans-Serif\" font-size=\"14.00\">value = [0, 0, 34]</text>\r\n",
       "<text text-anchor=\"start\" x=\"454.5\" y=\"-238.3\" font-family=\"Helvetica,sans-Serif\" font-size=\"14.00\">class = Virginica</text>\r\n",
       "</g>\r\n",
       "<!-- 8&#45;&gt;14 -->\r\n",
       "<g id=\"edge14\" class=\"edge\"><title>8&#45;&gt;14</title>\r\n",
       "<path fill=\"none\" stroke=\"black\" d=\"M411.96,-341.907C426.627,-329.99 442.645,-316.976 457.237,-305.12\"/>\r\n",
       "<polygon fill=\"black\" stroke=\"black\" points=\"459.625,-307.689 465.179,-298.667 455.211,-302.256 459.625,-307.689\"/>\r\n",
       "</g>\r\n",
       "<!-- 10 -->\r\n",
       "<g id=\"node11\" class=\"node\"><title>10</title>\r\n",
       "<path fill=\"#39e581\" stroke=\"black\" d=\"M414,-179.5C414,-179.5 308,-179.5 308,-179.5 302,-179.5 296,-173.5 296,-167.5 296,-167.5 296,-123.5 296,-123.5 296,-117.5 302,-111.5 308,-111.5 308,-111.5 414,-111.5 414,-111.5 420,-111.5 426,-117.5 426,-123.5 426,-123.5 426,-167.5 426,-167.5 426,-173.5 420,-179.5 414,-179.5\"/>\r\n",
       "<text text-anchor=\"start\" x=\"332\" y=\"-164.3\" font-family=\"Helvetica,sans-Serif\" font-size=\"14.00\">gini = 0.0</text>\r\n",
       "<text text-anchor=\"start\" x=\"321.5\" y=\"-149.3\" font-family=\"Helvetica,sans-Serif\" font-size=\"14.00\">samples = 2</text>\r\n",
       "<text text-anchor=\"start\" x=\"312.5\" y=\"-134.3\" font-family=\"Helvetica,sans-Serif\" font-size=\"14.00\">value = [0, 2, 0]</text>\r\n",
       "<text text-anchor=\"start\" x=\"304\" y=\"-119.3\" font-family=\"Helvetica,sans-Serif\" font-size=\"14.00\">class = Versicolor</text>\r\n",
       "</g>\r\n",
       "<!-- 9&#45;&gt;10 -->\r\n",
       "<g id=\"edge10\" class=\"edge\"><title>9&#45;&gt;10</title>\r\n",
       "<path fill=\"none\" stroke=\"black\" d=\"M361.653,-222.907C361.562,-212.204 361.463,-200.615 361.37,-189.776\"/>\r\n",
       "<polygon fill=\"black\" stroke=\"black\" points=\"364.869,-189.637 361.283,-179.667 357.869,-189.697 364.869,-189.637\"/>\r\n",
       "</g>\r\n",
       "<!-- 11 -->\r\n",
       "<g id=\"node12\" class=\"node\"><title>11</title>\r\n",
       "<path fill=\"#ab7bee\" stroke=\"black\" d=\"M576,-187C576,-187 456,-187 456,-187 450,-187 444,-181 444,-175 444,-175 444,-116 444,-116 444,-110 450,-104 456,-104 456,-104 576,-104 576,-104 582,-104 588,-110 588,-116 588,-116 588,-175 588,-175 588,-181 582,-187 576,-187\"/>\r\n",
       "<text text-anchor=\"start\" x=\"452\" y=\"-171.8\" font-family=\"Helvetica,sans-Serif\" font-size=\"14.00\">Sepal Length ≤ 6.05</text>\r\n",
       "<text text-anchor=\"start\" x=\"478.5\" y=\"-156.8\" font-family=\"Helvetica,sans-Serif\" font-size=\"14.00\">gini = 0.375</text>\r\n",
       "<text text-anchor=\"start\" x=\"476.5\" y=\"-141.8\" font-family=\"Helvetica,sans-Serif\" font-size=\"14.00\">samples = 4</text>\r\n",
       "<text text-anchor=\"start\" x=\"467.5\" y=\"-126.8\" font-family=\"Helvetica,sans-Serif\" font-size=\"14.00\">value = [0, 1, 3]</text>\r\n",
       "<text text-anchor=\"start\" x=\"464.5\" y=\"-111.8\" font-family=\"Helvetica,sans-Serif\" font-size=\"14.00\">class = Virginica</text>\r\n",
       "</g>\r\n",
       "<!-- 9&#45;&gt;11 -->\r\n",
       "<g id=\"edge11\" class=\"edge\"><title>9&#45;&gt;11</title>\r\n",
       "<path fill=\"none\" stroke=\"black\" d=\"M415.43,-222.907C428.091,-213.288 441.694,-202.953 454.676,-193.09\"/>\r\n",
       "<polygon fill=\"black\" stroke=\"black\" points=\"456.82,-195.857 462.665,-187.021 452.585,-190.283 456.82,-195.857\"/>\r\n",
       "</g>\r\n",
       "<!-- 12 -->\r\n",
       "<g id=\"node13\" class=\"node\"><title>12</title>\r\n",
       "<path fill=\"#39e581\" stroke=\"black\" d=\"M497,-68C497,-68 391,-68 391,-68 385,-68 379,-62 379,-56 379,-56 379,-12 379,-12 379,-6 385,-0 391,-0 391,-0 497,-0 497,-0 503,-0 509,-6 509,-12 509,-12 509,-56 509,-56 509,-62 503,-68 497,-68\"/>\r\n",
       "<text text-anchor=\"start\" x=\"415\" y=\"-52.8\" font-family=\"Helvetica,sans-Serif\" font-size=\"14.00\">gini = 0.0</text>\r\n",
       "<text text-anchor=\"start\" x=\"404.5\" y=\"-37.8\" font-family=\"Helvetica,sans-Serif\" font-size=\"14.00\">samples = 1</text>\r\n",
       "<text text-anchor=\"start\" x=\"395.5\" y=\"-22.8\" font-family=\"Helvetica,sans-Serif\" font-size=\"14.00\">value = [0, 1, 0]</text>\r\n",
       "<text text-anchor=\"start\" x=\"387\" y=\"-7.8\" font-family=\"Helvetica,sans-Serif\" font-size=\"14.00\">class = Versicolor</text>\r\n",
       "</g>\r\n",
       "<!-- 11&#45;&gt;12 -->\r\n",
       "<g id=\"edge12\" class=\"edge\"><title>11&#45;&gt;12</title>\r\n",
       "<path fill=\"none\" stroke=\"black\" d=\"M489.19,-103.726C483.432,-94.9703 477.339,-85.7032 471.554,-76.9051\"/>\r\n",
       "<polygon fill=\"black\" stroke=\"black\" points=\"474.314,-74.7322 465.896,-68.2996 468.465,-78.5781 474.314,-74.7322\"/>\r\n",
       "</g>\r\n",
       "<!-- 13 -->\r\n",
       "<g id=\"node14\" class=\"node\"><title>13</title>\r\n",
       "<path fill=\"#8139e5\" stroke=\"black\" d=\"M634.5,-68C634.5,-68 539.5,-68 539.5,-68 533.5,-68 527.5,-62 527.5,-56 527.5,-56 527.5,-12 527.5,-12 527.5,-6 533.5,-0 539.5,-0 539.5,-0 634.5,-0 634.5,-0 640.5,-0 646.5,-6 646.5,-12 646.5,-12 646.5,-56 646.5,-56 646.5,-62 640.5,-68 634.5,-68\"/>\r\n",
       "<text text-anchor=\"start\" x=\"558\" y=\"-52.8\" font-family=\"Helvetica,sans-Serif\" font-size=\"14.00\">gini = 0.0</text>\r\n",
       "<text text-anchor=\"start\" x=\"547.5\" y=\"-37.8\" font-family=\"Helvetica,sans-Serif\" font-size=\"14.00\">samples = 3</text>\r\n",
       "<text text-anchor=\"start\" x=\"538.5\" y=\"-22.8\" font-family=\"Helvetica,sans-Serif\" font-size=\"14.00\">value = [0, 0, 3]</text>\r\n",
       "<text text-anchor=\"start\" x=\"535.5\" y=\"-7.8\" font-family=\"Helvetica,sans-Serif\" font-size=\"14.00\">class = Virginica</text>\r\n",
       "</g>\r\n",
       "<!-- 11&#45;&gt;13 -->\r\n",
       "<g id=\"edge13\" class=\"edge\"><title>11&#45;&gt;13</title>\r\n",
       "<path fill=\"none\" stroke=\"black\" d=\"M542.438,-103.726C548.115,-94.9703 554.124,-85.7032 559.829,-76.9051\"/>\r\n",
       "<polygon fill=\"black\" stroke=\"black\" points=\"562.905,-78.5943 565.408,-68.2996 557.031,-74.786 562.905,-78.5943\"/>\r\n",
       "</g>\r\n",
       "</g>\r\n",
       "</svg>\r\n"
      ],
      "text/plain": [
       "<graphviz.files.Source at 0x1924f406a48>"
      ]
     },
     "execution_count": 23,
     "metadata": {},
     "output_type": "execute_result"
    }
   ],
   "source": [
    "\n",
    "#Visualizing Decision Tree\n",
    "import graphviz\n",
    "from sklearn import tree\n",
    "feature_name = [\"Sepal Length\",\"Sepal Width\",\"Petal Length\",\"Petal Width\"]\n",
    "class_name = [\"Setosa\",\"Versicolor\",\"Virginica\"]\n",
    "\n",
    "\n",
    "d = tree.export_graphviz(classifier, feature_names = feature_name, class_names=class_name,filled =True,\n",
    "                         rounded=True, special_characters=True)\n",
    "dtree = graphviz.Source(d, format=\"png\")\n",
    "dtree"
   ]
  },
  {
   "cell_type": "markdown",
   "metadata": {
    "colab_type": "text",
    "id": "6iGNIUVuTzvS"
   },
   "source": [
    "**You can now feed any new/test data to this classifer and it would be able to predict the right class accordingly.**"
   ]
  },
  {
   "cell_type": "code",
   "execution_count": 24,
   "metadata": {
    "scrolled": true
   },
   "outputs": [
    {
     "name": "stdout",
     "output_type": "stream",
     "text": [
      "Sepal Length: 6\n",
      "Sepal Width: 2\n",
      "Petal Length: 4\n",
      "Petal Width: 1\n"
     ]
    }
   ],
   "source": [
    "# taking input from the user\n",
    "sepal_length = input(\"Sepal Length: \")\n",
    "sepal_width = input(\"Sepal Width: \")\n",
    "petal_length = input(\"Petal Length: \")\n",
    "petal_width = input(\"Petal Width: \")"
   ]
  },
  {
   "cell_type": "code",
   "execution_count": 25,
   "metadata": {},
   "outputs": [
    {
     "name": "stdout",
     "output_type": "stream",
     "text": [
      "Class according to the input data:\n",
      "Versicolor\n"
     ]
    }
   ],
   "source": [
    "print(\"Class according to the input data:\")\n",
    "if (classifier.predict([[sepal_length, sepal_width, petal_length, petal_width]])[0] == 0):\n",
    "    print('Setosa')\n",
    "if (classifier.predict([[sepal_length, sepal_width, petal_length, petal_width]])[0] == 1):\n",
    "    print('Versicolor')\n",
    "if (classifier.predict([[sepal_length, sepal_width, petal_length, petal_width]])[0] == 2):\n",
    "    print('Virginica')"
   ]
  },
  {
   "cell_type": "code",
   "execution_count": 26,
   "metadata": {},
   "outputs": [
    {
     "name": "stdout",
     "output_type": "stream",
     "text": [
      "Sepal Length: 4\n",
      "Sepal Width: 3\n",
      "Petal Length: 1\n",
      "Petal Width: 0.3\n"
     ]
    }
   ],
   "source": [
    "# taking input from the user\n",
    "sepal_length = input(\"Sepal Length: \")\n",
    "sepal_width = input(\"Sepal Width: \")\n",
    "petal_length = input(\"Petal Length: \")\n",
    "petal_width = input(\"Petal Width: \")"
   ]
  },
  {
   "cell_type": "code",
   "execution_count": 27,
   "metadata": {},
   "outputs": [
    {
     "name": "stdout",
     "output_type": "stream",
     "text": [
      "Class according to the input data:\n",
      "Setosa\n"
     ]
    }
   ],
   "source": [
    "print(\"Class according to the input data:\")\n",
    "if (classifier.predict([[sepal_length, sepal_width, petal_length, petal_width]])[0] == 0):\n",
    "    print('Setosa')\n",
    "if (classifier.predict([[sepal_length, sepal_width, petal_length, petal_width]])[0] == 1):\n",
    "    print('Versicolor')\n",
    "if (classifier.predict([[sepal_length, sepal_width, petal_length, petal_width]])[0] == 2):\n",
    "    print('Virginica')"
   ]
  },
  {
   "cell_type": "code",
   "execution_count": 32,
   "metadata": {},
   "outputs": [
    {
     "name": "stdout",
     "output_type": "stream",
     "text": [
      "Sepal Length: 7\n",
      "Sepal Width: 2\n",
      "Petal Length: 6\n",
      "Petal Width: 2\n"
     ]
    }
   ],
   "source": [
    "# taking input from the user\n",
    "sepal_length = input(\"Sepal Length: \")\n",
    "sepal_width = input(\"Sepal Width: \")\n",
    "petal_length = input(\"Petal Length: \")\n",
    "petal_width = input(\"Petal Width: \")"
   ]
  },
  {
   "cell_type": "code",
   "execution_count": 33,
   "metadata": {
    "scrolled": true
   },
   "outputs": [
    {
     "name": "stdout",
     "output_type": "stream",
     "text": [
      "Class according to the input data:\n",
      "Virginica\n"
     ]
    }
   ],
   "source": [
    "print(\"Class according to the input data:\")\n",
    "if (classifier.predict([[sepal_length, sepal_width, petal_length, petal_width]])[0] == 0):\n",
    "    print('Setosa')\n",
    "if (classifier.predict([[sepal_length, sepal_width, petal_length, petal_width]])[0] == 1):\n",
    "    print('Versicolor')\n",
    "if (classifier.predict([[sepal_length, sepal_width, petal_length, petal_width]])[0] == 2):\n",
    "    print('Virginica')"
   ]
  },
  {
   "cell_type": "markdown",
   "metadata": {},
   "source": [
    "# referenece\n",
    "--> https://github.com/purvitsharma/The-Sparks-Foundation/blob/Main/Task_6_colab.ipynb"
   ]
  }
 ],
 "metadata": {
  "colab": {
   "collapsed_sections": [],
   "name": "DecisionTrees.ipynb",
   "provenance": [],
   "version": "0.3.2"
  },
  "kernelspec": {
   "display_name": "Python 3",
   "language": "python",
   "name": "python3"
  },
  "language_info": {
   "codemirror_mode": {
    "name": "ipython",
    "version": 3
   },
   "file_extension": ".py",
   "mimetype": "text/x-python",
   "name": "python",
   "nbconvert_exporter": "python",
   "pygments_lexer": "ipython3",
   "version": "3.7.4"
  }
 },
 "nbformat": 4,
 "nbformat_minor": 1
}
